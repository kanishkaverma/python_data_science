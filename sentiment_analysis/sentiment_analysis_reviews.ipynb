{
 "cells": [
  {
   "source": [
    "### Obtaining a subset of the data from https://nijianmo.github.io/amazon/index.html#complete-data"
   ],
   "cell_type": "markdown",
   "metadata": {}
  },
  {
   "cell_type": "code",
   "execution_count": 158,
   "metadata": {},
   "outputs": [],
   "source": [
    "import os\n",
    "import json\n",
    "import gzip\n",
    "import pandas as pd\n",
    "from urllib.request import urlopen\n",
    "import numpy as np\n",
    "from numpy import loadtxt\n",
    "from xgboost import XGBClassifier\n",
    "from sklearn.model_selection import train_test_split\n",
    "from sklearn.feature_extraction.text import CountVectorizer\n",
    "from sklearn import svm \n",
    "from sklearn.datasets import load_iris\n",
    "from sklearn.model_selection import cross_val_score\n",
    "from sklearn.tree import DecisionTreeClassifier\n",
    "from sklearn.ensemble import RandomForestClassifier\n",
    "from sklearn.datasets import make_classification\n",
    "from sklearn.ensemble import AdaBoostClassifier\n",
    "from sklearn.datasets import make_classification\n",
    "from sklearn.metrics import accuracy_score\n",
    "from sklearn.model_selection import cross_val_score, KFold\n",
    "from sklearn.metrics import confusion_matrix\n",
    "from sklearn.ensemble import GradientBoostingClassifier\n",
    "from sklearn.model_selection import train_test_split\n",
    "from sklearn.metrics import accuracy_score\n"
   ]
  },
  {
   "source": [
    "### Putting the data in a pandas dataframe. "
   ],
   "cell_type": "markdown",
   "metadata": {}
  },
  {
   "cell_type": "code",
   "execution_count": 159,
   "metadata": {},
   "outputs": [],
   "source": [
    "def parse(path):\n",
    "  g = gzip.open(path, 'rb')\n",
    "  for l in g:\n",
    "    yield json.loads(l)\n",
    "\n",
    "def getDF(path):\n",
    "  i = 0\n",
    "  df = {}\n",
    "  for d in parse(path):\n",
    "    df[i] = d\n",
    "    i += 1\n",
    "  return pd.DataFrame.from_dict(df, orient='index')\n",
    "\n",
    "df = getDF('./data/Grocery_and_Gourmet_Food_5.json.gz')"
   ]
  },
  {
   "source": [
    "### Subset the data to what we need and store it in dg. \n",
    "\n"
   ],
   "cell_type": "markdown",
   "metadata": {}
  },
  {
   "cell_type": "code",
   "execution_count": 160,
   "metadata": {},
   "outputs": [],
   "source": [
    "dg = df[['overall','reviewText']]"
   ]
  },
  {
   "source": [
    "### Cleaning the data. \n"
   ],
   "cell_type": "markdown",
   "metadata": {}
  },
  {
   "source": [
    "#### (a) handle NaNs. "
   ],
   "cell_type": "markdown",
   "metadata": {}
  },
  {
   "cell_type": "code",
   "execution_count": 161,
   "metadata": {},
   "outputs": [
    {
     "output_type": "execute_result",
     "data": {
      "text/plain": [
       "overall                 0\n",
       "verified                0\n",
       "reviewTime              0\n",
       "reviewerID              0\n",
       "asin                    0\n",
       "reviewerName          138\n",
       "reviewText            390\n",
       "summary               219\n",
       "unixReviewTime          0\n",
       "vote               985658\n",
       "style              551774\n",
       "image             1134350\n",
       "dtype: int64"
      ]
     },
     "metadata": {},
     "execution_count": 161
    }
   ],
   "source": [
    "df.isnull().sum()"
   ]
  },
  {
   "cell_type": "code",
   "execution_count": 162,
   "metadata": {},
   "outputs": [],
   "source": [
    "#remove nulls\n",
    "dg.dropna(inplace=True)"
   ]
  },
  {
   "source": [
    "### (b) add a sentiment column and set it to one if the overall rating was greater than 3 and to zero if the rating was less than 3"
   ],
   "cell_type": "markdown",
   "metadata": {}
  },
  {
   "cell_type": "code",
   "execution_count": 163,
   "metadata": {},
   "outputs": [],
   "source": [
    "dg.loc[dg['overall'] > 3.0, 'sentiment'] = 1\n",
    "dg.loc[dg['overall'] < 3.0, 'sentiment'] = 0"
   ]
  },
  {
   "cell_type": "code",
   "execution_count": 164,
   "metadata": {},
   "outputs": [],
   "source": [
    "#Remove any reviews with a neutral rating of 3 stars.\n",
    "dg.dropna(axis=0, how = 'any', inplace=True)\n"
   ]
  },
  {
   "cell_type": "code",
   "execution_count": 165,
   "metadata": {},
   "outputs": [],
   "source": [
    "#Convert to lower case to reduce complexity of bag of words matrix. \n",
    "dg['reviewText'] = dg['reviewText'].map(lambda x: x.lower())"
   ]
  },
  {
   "source": [
    "### final data before fitting. "
   ],
   "cell_type": "markdown",
   "metadata": {}
  },
  {
   "source": [
    "\n",
    "dg.head()"
   ],
   "cell_type": "code",
   "metadata": {},
   "execution_count": 166,
   "outputs": [
    {
     "output_type": "execute_result",
     "data": {
      "text/plain": [
       "   overall                                         reviewText  sentiment\n",
       "0      5.0                                no adverse comment.        1.0\n",
       "1      5.0                          gift for college student.        1.0\n",
       "2      5.0  if you like strong tea, this is for you. it mi...        1.0\n",
       "3      5.0  love the tea. the flavor is way better than th...        1.0\n",
       "4      5.0  i have searched everywhere until i browsed ama...        1.0"
      ],
      "text/html": "<div>\n<style scoped>\n    .dataframe tbody tr th:only-of-type {\n        vertical-align: middle;\n    }\n\n    .dataframe tbody tr th {\n        vertical-align: top;\n    }\n\n    .dataframe thead th {\n        text-align: right;\n    }\n</style>\n<table border=\"1\" class=\"dataframe\">\n  <thead>\n    <tr style=\"text-align: right;\">\n      <th></th>\n      <th>overall</th>\n      <th>reviewText</th>\n      <th>sentiment</th>\n    </tr>\n  </thead>\n  <tbody>\n    <tr>\n      <th>0</th>\n      <td>5.0</td>\n      <td>no adverse comment.</td>\n      <td>1.0</td>\n    </tr>\n    <tr>\n      <th>1</th>\n      <td>5.0</td>\n      <td>gift for college student.</td>\n      <td>1.0</td>\n    </tr>\n    <tr>\n      <th>2</th>\n      <td>5.0</td>\n      <td>if you like strong tea, this is for you. it mi...</td>\n      <td>1.0</td>\n    </tr>\n    <tr>\n      <th>3</th>\n      <td>5.0</td>\n      <td>love the tea. the flavor is way better than th...</td>\n      <td>1.0</td>\n    </tr>\n    <tr>\n      <th>4</th>\n      <td>5.0</td>\n      <td>i have searched everywhere until i browsed ama...</td>\n      <td>1.0</td>\n    </tr>\n  </tbody>\n</table>\n</div>"
     },
     "metadata": {},
     "execution_count": 166
    }
   ]
  },
  {
   "cell_type": "code",
   "execution_count": 167,
   "metadata": {},
   "outputs": [],
   "source": [
    "#Initialize vectorizer. \n",
    "vectorizer = CountVectorizer()"
   ]
  },
  {
   "cell_type": "code",
   "execution_count": 168,
   "metadata": {},
   "outputs": [],
   "source": [
    "#set X and y. \n",
    "X,y= dg.reviewText, dg.sentiment"
   ]
  },
  {
   "source": [
    "### split the data in train and test sets. "
   ],
   "cell_type": "markdown",
   "metadata": {}
  },
  {
   "cell_type": "code",
   "execution_count": 169,
   "metadata": {},
   "outputs": [],
   "source": [
    "# Split the data.\n",
    "X_train, X_test, y_train, y_test = train_test_split(X, y, test_size = 5000, random_state = 42, train_size = 5000,stratify = y)"
   ]
  },
  {
   "cell_type": "code",
   "execution_count": 170,
   "metadata": {},
   "outputs": [],
   "source": [
    "# Convert to bow matrices. \n",
    "X_train_bow, X_test_bow = vectorizer.fit_transform(X_train),vectorizer.transform(X_test)\n"
   ]
  },
  {
   "source": [
    "### The data is ready for fitting models and I am going to be using several models. "
   ],
   "cell_type": "markdown",
   "metadata": {}
  },
  {
   "source": [
    "### SVM linear"
   ],
   "cell_type": "markdown",
   "metadata": {}
  },
  {
   "cell_type": "code",
   "execution_count": 171,
   "metadata": {},
   "outputs": [
    {
     "output_type": "execute_result",
     "data": {
      "text/plain": [
       "0.9218"
      ]
     },
     "metadata": {},
     "execution_count": 171
    }
   ],
   "source": [
    " svc_lin = svm.SVC(kernel=\"linear\", C=0.025)\n",
    " svc_lin.fit(X_train_bow, y_train)\n",
    " svc_lin.score(X_test_bow,y_test)\n"
   ]
  },
  {
   "source": [
    "### SVM non linear\n"
   ],
   "cell_type": "markdown",
   "metadata": {}
  },
  {
   "cell_type": "code",
   "execution_count": 172,
   "metadata": {},
   "outputs": [
    {
     "output_type": "execute_result",
     "data": {
      "text/plain": [
       "0.9134"
      ]
     },
     "metadata": {},
     "execution_count": 172
    }
   ],
   "source": [
    "clf = svm.SVC(gamma = 'auto', C =1)\n",
    "clf.fit(X_train_bow,y_train)\n",
    "clf.score(X_test_bow,y_test)\n"
   ]
  },
  {
   "source": [
    "### Classification Tree"
   ],
   "cell_type": "markdown",
   "metadata": {}
  },
  {
   "cell_type": "code",
   "execution_count": 173,
   "metadata": {},
   "outputs": [
    {
     "output_type": "execute_result",
     "data": {
      "text/plain": [
       "0.9008"
      ]
     },
     "metadata": {},
     "execution_count": 173
    }
   ],
   "source": [
    "clf = DecisionTreeClassifier(random_state=0)\n",
    "clf.fit(X_train_bow,y_train)\n",
    "clf.score(X_test_bow,y_test)"
   ]
  },
  {
   "source": [
    "### Random Forrest\n"
   ],
   "cell_type": "markdown",
   "metadata": {}
  },
  {
   "cell_type": "code",
   "execution_count": 174,
   "metadata": {},
   "outputs": [
    {
     "output_type": "execute_result",
     "data": {
      "text/plain": [
       "0.918"
      ]
     },
     "metadata": {},
     "execution_count": 174
    }
   ],
   "source": [
    "clf = RandomForestClassifier( random_state=0)\n",
    "clf.fit(X_train_bow,y_train)\n",
    "clf.score(X_test_bow,y_test)"
   ]
  },
  {
   "source": [
    "### ADA boost\n"
   ],
   "cell_type": "markdown",
   "metadata": {}
  },
  {
   "cell_type": "code",
   "execution_count": 175,
   "metadata": {},
   "outputs": [
    {
     "output_type": "execute_result",
     "data": {
      "text/plain": [
       "0.9192"
      ]
     },
     "metadata": {},
     "execution_count": 175
    }
   ],
   "source": [
    "\n",
    "clf = AdaBoostClassifier(n_estimators=100, random_state=0)\n",
    "clf.fit(X_train_bow, y_train)\n",
    "\n",
    "\n",
    "clf.score(X_test_bow, y_test)\n"
   ]
  },
  {
   "source": [
    "### Gradient boost"
   ],
   "cell_type": "markdown",
   "metadata": {}
  },
  {
   "cell_type": "code",
   "execution_count": 176,
   "metadata": {},
   "outputs": [
    {
     "output_type": "execute_result",
     "data": {
      "text/plain": [
       "0.912"
      ]
     },
     "metadata": {},
     "execution_count": 176
    }
   ],
   "source": [
    "clf = GradientBoostingClassifier(n_estimators=1000, learning_rate=1.0,\n",
    "    max_depth=1, random_state=0, warm_start=True).fit(X_train_bow, y_train)\n",
    "clf.score(X_test_bow, y_test)\n"
   ]
  },
  {
   "source": [
    "### XG boost"
   ],
   "cell_type": "markdown",
   "metadata": {}
  },
  {
   "cell_type": "code",
   "execution_count": 181,
   "metadata": {},
   "outputs": [],
   "source": [
    "xgbc = XGBClassifier(random_state=1,learning_rate=0.1,verbosity=0, max_depth = 5)\n",
    "xgbc.fit(X_train_bow, y_train)\n",
    "y_pred = xgbc.predict(X_test_bow)"
   ]
  },
  {
   "cell_type": "code",
   "execution_count": 182,
   "metadata": {},
   "outputs": [
    {
     "output_type": "execute_result",
     "data": {
      "text/plain": [
       "0.9224"
      ]
     },
     "metadata": {},
     "execution_count": 182
    }
   ],
   "source": [
    "xgbc.score(X_test_bow, y_test)"
   ]
  },
  {
   "cell_type": "code",
   "execution_count": 183,
   "metadata": {},
   "outputs": [
    {
     "output_type": "stream",
     "name": "stdout",
     "text": [
      "Mean cross-validation score: 0.92\n",
      "K-fold CV average score: 0.92\n",
      "[[  61  372]\n",
      " [  16 4551]]\n"
     ]
    }
   ],
   "source": [
    "\n",
    "scores = cross_val_score(xgbc, X_train_bow, y_train, cv=5)\n",
    "print(\"Mean cross-validation score: %.2f\" % scores.mean())\n",
    "#k fold cross validation =\n",
    "kfold = KFold(n_splits=10, shuffle=True)\n",
    "kf_cv_scores = cross_val_score(xgbc, X_train_bow, y_train, cv=kfold )\n",
    "print(\"K-fold CV average score: %.2f\" % kf_cv_scores.mean())\n",
    "\n",
    "ypred = xgbc.predict(X_test_bow)\n",
    "#confusion matrix \n",
    "cm = confusion_matrix(y_test,y_pred\n",
    ")\n",
    "print(cm)"
   ]
  },
  {
   "cell_type": "code",
   "execution_count": null,
   "metadata": {},
   "outputs": [],
   "source": []
  }
 ],
 "metadata": {
  "kernelspec": {
   "name": "python3",
   "display_name": "Python 3.8.4 64-bit",
   "metadata": {
    "interpreter": {
     "hash": "2db524e06e9f5f4ffedc911c917cb75e12dbc923643829bf417064a77eb14d37"
    }
   }
  },
  "language_info": {
   "codemirror_mode": {
    "name": "ipython",
    "version": 3
   },
   "file_extension": ".py",
   "mimetype": "text/x-python",
   "name": "python",
   "nbconvert_exporter": "python",
   "pygments_lexer": "ipython3",
   "version": "3.8.4-final"
  }
 },
 "nbformat": 4,
 "nbformat_minor": 4
}