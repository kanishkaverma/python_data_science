{
 "cells": [
  {
   "cell_type": "code",
   "execution_count": 43,
   "metadata": {},
   "outputs": [],
   "source": [
    "#Linked List class \n",
    "class Linked_List:\n",
    "    def __init__(self, head,size=0): \n",
    "        self.head = head\n",
    "        size += 1\n",
    "    #To string        \n",
    "    def __repr__(self):\n",
    "        node = self.head; \n",
    "        str = \"[HEAD]->\"\n",
    "        while node!= None:\n",
    "            str += f\"{repr(node)}\"\n",
    "            if node.next == None:\n",
    "                    str += \"None\"\n",
    "            node = node.next\n",
    "           \n",
    "        return str\n",
    "    \n",
    "    # adds to the front  \n",
    "    def add(self, val):\n",
    "        new_node = Node(val)\n",
    "        temp = self.head\n",
    "        self.head = new_node \n",
    "        new_node.next = temp\n",
    "        \n",
    "    # deletes from top by default, otherwise deletes the first instance of the value given\n",
    "    def delete(self,val=None): \n",
    "        if (not val) or self.head.data == val:\n",
    "            self.head = self.head.next\n",
    "        else: \n",
    "            node = self.head\n",
    "            while node.next  != None: \n",
    "                if (val == node.next.data):\n",
    "                    temp = node.next.next\n",
    "                    node.next = temp\n",
    "                node = node.next\n",
    "\n",
    "    #reverses linked list\n",
    "    def reverse(self): \n",
    "        t0 = self.head \n",
    "        node = t0.next\n",
    "        t1 = node.next\n",
    "        t0.next = None\n",
    "        while t1.next != None: \n",
    "                node.next = t0 \n",
    "                t0 = node \n",
    "                node = t1\n",
    "                t1 = t1.next\n",
    "    \n",
    "        node.next = t0 \n",
    "        t1.next = node \n",
    "        self.head = t1 \n",
    "        \n",
    "    \n",
    "                \n",
    "                    \n",
    "                    \n",
    "# Node class. \n",
    "class  Node: \n",
    "    def __init__(self,data):\n",
    "        self.data = data\n",
    "        self.next = None\n",
    "        \n",
    "        \n",
    "    def __repr__(self): \n",
    "        return f\"[{self.data}]->\"\n",
    "    \n",
    "        \n",
    "        \n",
    "\n",
    "    "
   ]
  },
  {
   "cell_type": "code",
   "execution_count": 44,
   "metadata": {},
   "outputs": [],
   "source": [
    "#populating list \n",
    "node_list = []\n",
    "for i in range(11): \n",
    "    node_list.append(Node(i))\n",
    "for i in range(len(node_list)-1):\n",
    "    node_list[i].next = node_list[i+1]\n",
    "    \n",
    "\n",
    "\n",
    "    \n",
    "    "
   ]
  },
  {
   "cell_type": "code",
   "execution_count": 45,
   "metadata": {},
   "outputs": [
    {
     "output_type": "stream",
     "name": "stdout",
     "text": [
      "[HEAD]->[0]->[1]->[2]->[3]->[4]->[5]->[6]->[7]->[8]->[9]->[10]->None\n"
     ]
    }
   ],
   "source": [
    "linkedlist = Linked_List(node_list[0])\n",
    "print(linkedlist)\n",
    "\n"
   ]
  },
  {
   "cell_type": "code",
   "execution_count": 46,
   "metadata": {},
   "outputs": [
    {
     "output_type": "stream",
     "name": "stdout",
     "text": [
      "[HEAD]->[10]->[9]->[8]->[7]->[6]->[5]->[4]->[3]->[2]->[1]->[0]->None\n"
     ]
    }
   ],
   "source": [
    "# reverse method works! \n",
    "linkedlist.reverse()\n",
    "print(linkedlist)\n"
   ]
  },
  {
   "cell_type": "code",
   "execution_count": 50,
   "metadata": {},
   "outputs": [
    {
     "output_type": "stream",
     "name": "stdout",
     "text": [
      "[HEAD]->[12]->[10]->[9]->[8]->[7]->[6]->[5]->[4]->[3]->[2]->[1]->[0]->None\n"
     ]
    }
   ],
   "source": [
    "#add works!\n",
    "linkedlist.add(12)\n",
    "print(linkedlist)"
   ]
  },
  {
   "cell_type": "code",
   "execution_count": 51,
   "metadata": {},
   "outputs": [
    {
     "output_type": "stream",
     "name": "stdout",
     "text": [
      "[HEAD]->[10]->[9]->[8]->[7]->[6]->[5]->[4]->[3]->[2]->[1]->[0]->None\n"
     ]
    }
   ],
   "source": [
    "#del with val works \n",
    "linkedlist.delete(12)\n",
    "print(linkedlist)"
   ]
  },
  {
   "cell_type": "code",
   "execution_count": 52,
   "metadata": {},
   "outputs": [
    {
     "output_type": "stream",
     "name": "stdout",
     "text": [
      "[HEAD]->[9]->[8]->[7]->[6]->[5]->[4]->[3]->[2]->[1]->[0]->None\n"
     ]
    }
   ],
   "source": [
    "#del without val works also \n",
    "linkedlist.delete()\n",
    "print(linkedlist)"
   ]
  },
  {
   "cell_type": "code",
   "execution_count": null,
   "metadata": {},
   "outputs": [],
   "source": []
  }
 ],
 "metadata": {
  "kernelspec": {
   "name": "python3",
   "display_name": "Python 3.8.5 64-bit (conda)",
   "metadata": {
    "interpreter": {
     "hash": "93af0c08c4077bd806cf73a5beb4b7761fa55a8894b046381b96fb892977e313"
    }
   }
  },
  "language_info": {
   "codemirror_mode": {
    "name": "ipython",
    "version": 3
   },
   "file_extension": ".py",
   "mimetype": "text/x-python",
   "name": "python",
   "nbconvert_exporter": "python",
   "pygments_lexer": "ipython3",
   "version": "3.8.5-final"
  }
 },
 "nbformat": 4,
 "nbformat_minor": 4
}