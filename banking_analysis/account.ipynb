{
 "cells": [
  {
   "cell_type": "markdown",
   "metadata": {},
   "source": [
    "### Importing bank account data"
   ]
  },
  {
   "cell_type": "code",
   "execution_count": 270,
   "metadata": {
    "scrolled": true
   },
   "outputs": [
    {
     "data": {
      "text/html": [
       "<div>\n",
       "<style scoped>\n",
       "    .dataframe tbody tr th:only-of-type {\n",
       "        vertical-align: middle;\n",
       "    }\n",
       "\n",
       "    .dataframe tbody tr th {\n",
       "        vertical-align: top;\n",
       "    }\n",
       "\n",
       "    .dataframe thead th {\n",
       "        text-align: right;\n",
       "    }\n",
       "</style>\n",
       "<table border=\"1\" class=\"dataframe\">\n",
       "  <thead>\n",
       "    <tr style=\"text-align: right;\">\n",
       "      <th></th>\n",
       "      <th>Date</th>\n",
       "      <th>Amount</th>\n",
       "      <th>Type</th>\n",
       "      <th>Details</th>\n",
       "    </tr>\n",
       "  </thead>\n",
       "  <tbody>\n",
       "    <tr>\n",
       "      <th>0</th>\n",
       "      <td>2020-12-29</td>\n",
       "      <td>-6.71</td>\n",
       "      <td>POS Purchase</td>\n",
       "      <td>OPOS Amazon Channels     amazo</td>\n",
       "    </tr>\n",
       "    <tr>\n",
       "      <th>1</th>\n",
       "      <td>2020-11-27</td>\n",
       "      <td>-6.71</td>\n",
       "      <td>POS Purchase</td>\n",
       "      <td>OPOS Amazon Channels     amazo</td>\n",
       "    </tr>\n",
       "    <tr>\n",
       "      <th>2</th>\n",
       "      <td>2020-11-20</td>\n",
       "      <td>1425.00</td>\n",
       "      <td>Cash Management</td>\n",
       "      <td>UBC CAD GENERAL</td>\n",
       "    </tr>\n",
       "    <tr>\n",
       "      <th>3</th>\n",
       "      <td>2020-09-18</td>\n",
       "      <td>-43.68</td>\n",
       "      <td>POS Purchase</td>\n",
       "      <td>OPOS Amazon.ca Prime Membamazo</td>\n",
       "    </tr>\n",
       "    <tr>\n",
       "      <th>4</th>\n",
       "      <td>2020-09-15</td>\n",
       "      <td>500.00</td>\n",
       "      <td>Accounts Payable</td>\n",
       "      <td>UNIVERSITY OF BRITISH COLUMBIA</td>\n",
       "    </tr>\n",
       "    <tr>\n",
       "      <th>...</th>\n",
       "      <td>...</td>\n",
       "      <td>...</td>\n",
       "      <td>...</td>\n",
       "      <td>...</td>\n",
       "    </tr>\n",
       "    <tr>\n",
       "      <th>628</th>\n",
       "      <td>2019-01-02</td>\n",
       "      <td>-1.00</td>\n",
       "      <td>POS Purchase</td>\n",
       "      <td>OPOS 50.00 GOOGLE *SERVICg.co/</td>\n",
       "    </tr>\n",
       "    <tr>\n",
       "      <th>629</th>\n",
       "      <td>2019-01-02</td>\n",
       "      <td>-0.00</td>\n",
       "      <td>Service Charge</td>\n",
       "      <td>MB-FREE EMAIL MONEY TRF</td>\n",
       "    </tr>\n",
       "    <tr>\n",
       "      <th>630</th>\n",
       "      <td>2019-01-02</td>\n",
       "      <td>-10.00</td>\n",
       "      <td>WITHDRAWAL</td>\n",
       "      <td>MB-EMAIL MONEY TRF</td>\n",
       "    </tr>\n",
       "    <tr>\n",
       "      <th>631</th>\n",
       "      <td>2019-01-02</td>\n",
       "      <td>-20.00</td>\n",
       "      <td>POS Purchase</td>\n",
       "      <td>COINAMATIC CANADA INC.   KELOW</td>\n",
       "    </tr>\n",
       "    <tr>\n",
       "      <th>632</th>\n",
       "      <td>2019-01-02</td>\n",
       "      <td>-7.61</td>\n",
       "      <td>POS Purchase</td>\n",
       "      <td>FPOS JUGO JUICE          CALGA</td>\n",
       "    </tr>\n",
       "  </tbody>\n",
       "</table>\n",
       "<p>633 rows × 4 columns</p>\n",
       "</div>"
      ],
      "text/plain": [
       "          Date   Amount                     Type  \\\n",
       "0   2020-12-29    -6.71  POS Purchase              \n",
       "1   2020-11-27    -6.71  POS Purchase              \n",
       "2   2020-11-20  1425.00  Cash Management           \n",
       "3   2020-09-18   -43.68  POS Purchase              \n",
       "4   2020-09-15   500.00  Accounts Payable          \n",
       "..         ...      ...                      ...   \n",
       "628 2019-01-02    -1.00  POS Purchase              \n",
       "629 2019-01-02    -0.00  Service Charge            \n",
       "630 2019-01-02   -10.00  WITHDRAWAL                \n",
       "631 2019-01-02   -20.00  POS Purchase              \n",
       "632 2019-01-02    -7.61  POS Purchase              \n",
       "\n",
       "                            Details  \n",
       "0    OPOS Amazon Channels     amazo  \n",
       "1    OPOS Amazon Channels     amazo  \n",
       "2     UBC CAD GENERAL                \n",
       "3    OPOS Amazon.ca Prime Membamazo  \n",
       "4    UNIVERSITY OF BRITISH COLUMBIA  \n",
       "..                              ...  \n",
       "628  OPOS 50.00 GOOGLE *SERVICg.co/  \n",
       "629         MB-FREE EMAIL MONEY TRF  \n",
       "630              MB-EMAIL MONEY TRF  \n",
       "631  COINAMATIC CANADA INC.   KELOW  \n",
       "632  FPOS JUGO JUICE          CALGA  \n",
       "\n",
       "[633 rows x 4 columns]"
      ]
     },
     "execution_count": 270,
     "metadata": {},
     "output_type": "execute_result"
    }
   ],
   "source": [
    "import pandas as pd \n",
    "#read_csv\n",
    "df = pd.read_csv('./data/pcbanking.csv', header=None)\n",
    "\n",
    "#give column names and drop useless columns\n",
    "df.columns = ['Date', 'Amount', '-', 'Type', 'Details']\n",
    "df = df.drop(columns='-')\n",
    "\n",
    "#set date column to dateTime dtype. \n",
    "df['Date'] = pd.to_datetime(df.Date)\n",
    "df"
   ]
  },
  {
   "cell_type": "markdown",
   "metadata": {},
   "source": [
    "### Month in which most money was spent."
   ]
  },
  {
   "cell_type": "code",
   "execution_count": 281,
   "metadata": {
    "scrolled": true
   },
   "outputs": [
    {
     "data": {
      "text/plain": [
       "'July 2019'"
      ]
     },
     "execution_count": 281,
     "metadata": {},
     "output_type": "execute_result"
    }
   ],
   "source": [
    "# groupby each 1 month\n",
    "dg = df.groupby(pd.Grouper(key='Date', freq='1M')).sum() \n",
    "\n",
    "\n",
    "# month with most money spent. \n",
    "dg.idxmin().Amount.strftime('%B %Y')\n"
   ]
  },
  {
   "cell_type": "markdown",
   "metadata": {},
   "source": [
    "### Month in which most amount was deposited. "
   ]
  },
  {
   "cell_type": "code",
   "execution_count": 282,
   "metadata": {},
   "outputs": [
    {
     "data": {
      "text/plain": [
       "'April 2019'"
      ]
     },
     "execution_count": 282,
     "metadata": {},
     "output_type": "execute_result"
    }
   ],
   "source": [
    "#month with most money recieved. \n",
    "dg.idxmax().Amount.strftime('%B %Y')\n"
   ]
  },
  {
   "cell_type": "markdown",
   "metadata": {},
   "source": [
    "### Plot "
   ]
  },
  {
   "cell_type": "code",
   "execution_count": 294,
   "metadata": {},
   "outputs": [
    {
     "data": {
      "image/png": "[encoded data removed]",
      "text/plain": [
       "<Figure size 432x288 with 1 Axes>"
      ]
     },
     "metadata": {
      "needs_background": "light"
     },
     "output_type": "display_data"
    }
   ],
   "source": [
    "import matplotlib.pyplot as plt\n",
    "import numpy as np \n",
    "\n",
    "y = dg\n",
    "x = dg.index\n",
    "plt.title(\"Expenses in different months.\")\n",
    "plt.plot(x,y,\"r.-\")\n",
    "plt.ylabel(\"CAD/$\")\n",
    "plt.xlabel(\"Months\")\n",
    "plt.show()"
   ]
  },
  {
   "cell_type": "raw",
   "metadata": {},
   "source": []
  },
  {
   "cell_type": "code",
   "execution_count": null,
   "metadata": {},
   "outputs": [],
   "source": []
  }
 ],
 "metadata": {
  "kernelspec": {
   "display_name": "Python 3",
   "language": "python",
   "name": "python3"
  },
  "language_info": {
   "codemirror_mode": {
    "name": "ipython",
    "version": 3
   },
   "file_extension": ".py",
   "mimetype": "text/x-python",
   "name": "python",
   "nbconvert_exporter": "python",
   "pygments_lexer": "ipython3",
   "version": "3.7.6"
  }
 },
 "nbformat": 4,
 "nbformat_minor": 4
}
