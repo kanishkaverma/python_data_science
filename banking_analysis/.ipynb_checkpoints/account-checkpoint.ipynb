{
 "cells": [
  {
   "cell_type": "markdown",
   "metadata": {},
   "source": [
    "### Importing bank account data"
   ]
  },
  {
   "cell_type": "code",
   "execution_count": 76,
   "metadata": {
    "scrolled": false
   },
   "outputs": [
    {
     "data": {
      "text/plain": [
       "632   2019-01-02\n",
       "619   2019-01-02\n",
       "620   2019-01-02\n",
       "621   2019-01-02\n",
       "622   2019-01-02\n",
       "         ...    \n",
       "4     2020-09-15\n",
       "3     2020-09-18\n",
       "2     2020-11-20\n",
       "1     2020-11-27\n",
       "0     2020-12-29\n",
       "Name: Date, Length: 633, dtype: datetime64[ns]"
      ]
     },
     "execution_count": 76,
     "metadata": {},
     "output_type": "execute_result"
    }
   ],
   "source": [
    "import pandas as pd \n",
    "#read_csv\n",
    "df = pd.read_csv('./data/pcbanking.csv', header=None)\n",
    "#give column names and drop useless columns\n",
    "df.columns = ['Date', 'Amount', '-', 'Type', 'Details']\n",
    "df = df.drop(columns='-')\n",
    "\n",
    "\n",
    "\n",
    "df['Date'] = pd.to_datetime(df.Date)\n",
    "df = df.sort_values(by=['Date'])\n",
    "\n",
    "df.Date"
   ]
  },
  {
   "cell_type": "markdown",
   "metadata": {},
   "source": [
    "### Month in which most money was spent."
   ]
  },
  {
   "cell_type": "code",
   "execution_count": 157,
   "metadata": {
    "scrolled": true
   },
   "outputs": [
    {
     "data": {
      "text/plain": [
       "Amount    July 2019\n",
       "dtype: object"
      ]
     },
     "execution_count": 157,
     "metadata": {},
     "output_type": "execute_result"
    }
   ],
   "source": [
    "dg = df.groupby(pd.Grouper(key='Date', freq='1M')).sum() # groupby each 1 month\n",
    "dg.index = dg.index.strftime('%B %Y')\n",
    "dg.idxmin()\n"
   ]
  },
  {
   "cell_type": "markdown",
   "metadata": {},
   "source": [
    "### Month in which most amount was deposited. "
   ]
  },
  {
   "cell_type": "code",
   "execution_count": 158,
   "metadata": {},
   "outputs": [
    {
     "data": {
      "text/plain": [
       "Amount    April 2019\n",
       "dtype: object"
      ]
     },
     "execution_count": 158,
     "metadata": {},
     "output_type": "execute_result"
    }
   ],
   "source": [
    "\n",
    "dg.idxmin()"
   ]
  }
 ],
 "metadata": {
  "kernelspec": {
   "display_name": "Python 3",
   "language": "python",
   "name": "python3"
  },
  "language_info": {
   "codemirror_mode": {
    "name": "ipython",
    "version": 3
   },
   "file_extension": ".py",
   "mimetype": "text/x-python",
   "name": "python",
   "nbconvert_exporter": "python",
   "pygments_lexer": "ipython3",
   "version": "3.7.6"
  }
 },
 "nbformat": 4,
 "nbformat_minor": 4
}
